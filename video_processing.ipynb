{
 "cells": [
  {
   "cell_type": "code",
   "execution_count": 1,
   "metadata": {},
   "outputs": [],
   "source": [
    "%matplotlib inline\n",
    "%load_ext autoreload\n",
    "%autoreload 2\n",
    "\n",
    "import os,sys\n",
    "import pandas as pd\n",
    "import matplotlib.pyplot as plt\n",
    "import numpy as np\n",
    "import helper\n",
    "import simulation\n",
    "import time\n",
    "import cv2\n",
    "import skimage.io\n",
    "from skimage import color, util\n",
    "\n",
    "video_dir = \"./\"\n",
    "video_name = \"Square\"\n",
    "video_extension = \".mp4\"\n",
    "frames_dir = os.path.join(video_dir, \"frames_\" + video_name)\n",
    "\n",
    "if not os.path.exists(frames_dir):\n",
    "    os.makedirs(frames_dir)"
   ]
  },
  {
   "cell_type": "code",
   "execution_count": 2,
   "metadata": {},
   "outputs": [
    {
     "data": {
      "text/plain": [
       "UNet(\n",
       "  (dconv_down1): Sequential(\n",
       "    (0): Conv2d(3, 32, kernel_size=(3, 3), stride=(1, 1), padding=(1, 1))\n",
       "    (1): ReLU(inplace=True)\n",
       "    (2): Conv2d(32, 32, kernel_size=(3, 3), stride=(1, 1), padding=(1, 1))\n",
       "    (3): ReLU(inplace=True)\n",
       "  )\n",
       "  (dconv_down2): Sequential(\n",
       "    (0): Conv2d(32, 64, kernel_size=(3, 3), stride=(1, 1), padding=(1, 1))\n",
       "    (1): ReLU(inplace=True)\n",
       "    (2): Conv2d(64, 64, kernel_size=(3, 3), stride=(1, 1), padding=(1, 1))\n",
       "    (3): ReLU(inplace=True)\n",
       "  )\n",
       "  (dconv_down3): Sequential(\n",
       "    (0): Conv2d(64, 128, kernel_size=(3, 3), stride=(1, 1), padding=(1, 1))\n",
       "    (1): ReLU(inplace=True)\n",
       "    (2): Conv2d(128, 128, kernel_size=(3, 3), stride=(1, 1), padding=(1, 1))\n",
       "    (3): ReLU(inplace=True)\n",
       "  )\n",
       "  (dconv_down4): Sequential(\n",
       "    (0): Conv2d(128, 256, kernel_size=(3, 3), stride=(1, 1), padding=(1, 1))\n",
       "    (1): ReLU(inplace=True)\n",
       "    (2): Conv2d(256, 256, kernel_size=(3, 3), stride=(1, 1), padding=(1, 1))\n",
       "    (3): ReLU(inplace=True)\n",
       "  )\n",
       "  (maxpool): MaxPool2d(kernel_size=2, stride=2, padding=0, dilation=1, ceil_mode=False)\n",
       "  (upsample): Upsample(scale_factor=2.0, mode=bilinear)\n",
       "  (dconv_up3): Sequential(\n",
       "    (0): Conv2d(384, 128, kernel_size=(3, 3), stride=(1, 1), padding=(1, 1))\n",
       "    (1): ReLU(inplace=True)\n",
       "    (2): Conv2d(128, 128, kernel_size=(3, 3), stride=(1, 1), padding=(1, 1))\n",
       "    (3): ReLU(inplace=True)\n",
       "  )\n",
       "  (dconv_up2): Sequential(\n",
       "    (0): Conv2d(192, 64, kernel_size=(3, 3), stride=(1, 1), padding=(1, 1))\n",
       "    (1): ReLU(inplace=True)\n",
       "    (2): Conv2d(64, 64, kernel_size=(3, 3), stride=(1, 1), padding=(1, 1))\n",
       "    (3): ReLU(inplace=True)\n",
       "  )\n",
       "  (dconv_up1): Sequential(\n",
       "    (0): Conv2d(96, 32, kernel_size=(3, 3), stride=(1, 1), padding=(1, 1))\n",
       "    (1): ReLU(inplace=True)\n",
       "    (2): Conv2d(32, 32, kernel_size=(3, 3), stride=(1, 1), padding=(1, 1))\n",
       "    (3): ReLU(inplace=True)\n",
       "  )\n",
       "  (conv_last): Conv2d(32, 6, kernel_size=(1, 1), stride=(1, 1))\n",
       ")"
      ]
     },
     "execution_count": 2,
     "metadata": {},
     "output_type": "execute_result"
    }
   ],
   "source": [
    "import torch\n",
    "import torch.nn as nn\n",
    "import pytorch_unet\n",
    "\n",
    "device = torch.device('cuda' if torch.cuda.is_available() else 'cpu')\n",
    "\n",
    "model = pytorch_unet.UNet(6)\n",
    "model = model.to(device)\n",
    "\n",
    "weights_path = \"./unet-figures.pt\"\n",
    "model.load_state_dict(torch.load(weights_path))\n",
    "model.eval()"
   ]
  },
  {
   "cell_type": "code",
   "execution_count": 3,
   "metadata": {},
   "outputs": [],
   "source": [
    "import torchvision.utils\n",
    "from torchvision import transforms\n",
    "\n",
    "def reverse_transform(inp):\n",
    "    inp = inp.transpose((1, 2, 0))\n",
    "    inp = np.clip(inp, 0, 1)\n",
    "    inp = (inp * 255).astype(np.uint8)\n",
    "    \n",
    "    return inp"
   ]
  },
  {
   "cell_type": "code",
   "execution_count": 4,
   "metadata": {},
   "outputs": [
    {
     "name": "stdout",
     "output_type": "stream",
     "text": [
      "Elapsed time 127.34195685386658\n"
     ]
    }
   ],
   "source": [
    "save_frames = False\n",
    "\n",
    "vidcap = cv2.VideoCapture(os.path.join(video_dir, video_name + video_extension))\n",
    "success, image = vidcap.read()\n",
    "frame_amount = 0\n",
    "start_time = time.time()\n",
    "resize_size = 192\n",
    "while success:\n",
    "    # preprocess\n",
    "    image = util.invert(image.astype('uint8'))    \n",
    "    if len(image.shape) > 2:\n",
    "        image = color.rgb2gray(image)\n",
    "    image = skimage.transform.resize(image, (resize_size, resize_size), preserve_range=True, anti_aliasing=True)\n",
    "    image = np.reshape(image, [*image.shape, 1])\n",
    "    image = np.concatenate((image, image, image), axis=2)\n",
    "        \n",
    "    image -= image.min()\n",
    "    image /= image.max()\n",
    "        \n",
    "    image[image > 0.15] = 1\n",
    "    image = image.round().astype(np.float32)\n",
    "    \n",
    "    # unet in da house\n",
    "    model.eval()   # Set model to evaluate mode\n",
    "\n",
    "    image = image.transpose((2, 0, 1))\n",
    "    tensor = torch.from_numpy(image).to(torch.float32)\n",
    "    tensor = tensor.reshape(1, *tensor.shape)\n",
    "    pred = model(tensor.to(device=device))\n",
    "\n",
    "    pred = pred.data.cpu().numpy()\n",
    "    pred_rgb = [helper.masks_to_colorimg(x) for x in pred]\n",
    "    \n",
    "    # save frame\n",
    "    image = image.transpose((1, 2, 0))\n",
    "    image *= 255\n",
    "    \n",
    "    if save_frames is True:\n",
    "        cv2.imwrite(os.path.join(frames_dir, video_name + \"_frame%d.jpg\" % frame_amount), image)      \n",
    "    success, image = vidcap.read()\n",
    "    frame_amount += 1\n",
    "#     print('Read a new frame: ', frame_amount, end='\\r')\n",
    "\n",
    "elapsed_time = time.time() - start_time\n",
    "print(\"Elapsed time\", elapsed_time)"
   ]
  },
  {
   "cell_type": "code",
   "execution_count": 5,
   "metadata": {},
   "outputs": [
    {
     "name": "stdout",
     "output_type": "stream",
     "text": [
      "4.429019420890695\n"
     ]
    }
   ],
   "source": [
    "fps = frame_amount / elapsed_time\n",
    "print(fps)"
   ]
  },
  {
   "cell_type": "code",
   "execution_count": null,
   "metadata": {},
   "outputs": [],
   "source": [
    "\n"
   ]
  }
 ],
 "metadata": {
  "kernelspec": {
   "display_name": "Python 3",
   "language": "python",
   "name": "python3"
  },
  "language_info": {
   "codemirror_mode": {
    "name": "ipython",
    "version": 3
   },
   "file_extension": ".py",
   "mimetype": "text/x-python",
   "name": "python",
   "nbconvert_exporter": "python",
   "pygments_lexer": "ipython3",
   "version": "3.7.3"
  }
 },
 "nbformat": 4,
 "nbformat_minor": 2
}
